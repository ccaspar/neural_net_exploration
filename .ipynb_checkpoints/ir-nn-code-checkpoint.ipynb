{
 "cells": [
  {
   "cell_type": "markdown",
   "metadata": {},
   "source": [
    "# Fun with Neural Nets\n",
    "\n",
    "---"
   ]
  },
  {
   "cell_type": "code",
   "execution_count": 2,
   "metadata": {},
   "outputs": [
    {
     "name": "stderr",
     "output_type": "stream",
     "text": [
      "Using TensorFlow backend.\n"
     ]
    }
   ],
   "source": [
    "import pandas as pd\n",
    "import tensorflow as tf\n",
    "import keras\n",
    "from keras.utils import np_utils\n",
    "from keras.models import Sequential\n",
    "from keras.layers import Dense, Dropout, Activation, Flatten, Convolution2D, MaxPooling2D\n",
    "from keras.optimizers import Adam\n",
    "from sklearn.model_selection import train_test_split\n",
    "from sklearn import metrics\n",
    "import numpy as np\n",
    "\n",
    "import matplotlib.pyplot as plt\n",
    "%matplotlib inline"
   ]
  },
  {
   "cell_type": "code",
   "execution_count": 3,
   "metadata": {},
   "outputs": [],
   "source": [
    "df = pd.read_csv('./train.csv')"
   ]
  },
  {
   "cell_type": "code",
   "execution_count": 4,
   "metadata": {},
   "outputs": [
    {
     "name": "stdout",
     "output_type": "stream",
     "text": [
      "<class 'pandas.core.frame.DataFrame'>\n",
      "RangeIndex: 42000 entries, 0 to 41999\n",
      "Columns: 785 entries, label to pixel783\n",
      "dtypes: int64(785)\n",
      "memory usage: 251.5 MB\n"
     ]
    }
   ],
   "source": [
    "df.info()"
   ]
  },
  {
   "cell_type": "code",
   "execution_count": 36,
   "metadata": {},
   "outputs": [
    {
     "data": {
      "text/plain": [
       "0"
      ]
     },
     "execution_count": 36,
     "metadata": {},
     "output_type": "execute_result"
    }
   ],
   "source": [
    "df.isnull().sum().sum()"
   ]
  },
  {
   "cell_type": "code",
   "execution_count": 33,
   "metadata": {
    "collapsed": true
   },
   "outputs": [],
   "source": [
    "# setting up X and y\n",
    "X = df.drop('label', axis='columns').values\n",
    "y = df['label']\n",
    "y = pd.get_dummies(y).values\n",
    "\n",
    "X_train, X_test, y_train, y_test = train_test_split(X, y)\n",
    "\n",
    "# scale pixel data\n",
    "X_train = X_train / 255\n",
    "X_test = X_test / 255"
   ]
  },
  {
   "cell_type": "code",
   "execution_count": 32,
   "metadata": {
    "collapsed": true
   },
   "outputs": [],
   "source": [
    "# tensorflow FFNN setup\n",
    "tf.reset_default_graph()\n",
    "\n",
    "X = tf.placeholder(dtype=tf.float32, shape=(None, X_train.shape[1]), name='X')\n",
    "y = tf.placeholder(dtype=tf.float32, shape=None, name='y')\n",
    "\n",
    "n_hidden = X_train.shape[1]\n",
    "hidden1 = tf.layers.dense(X, units=n_hidden, name='hidden1', activation=tf.nn.relu)\n",
    "y_hat = tf.layers.dense(hidden1, units=y_train.shape[1], activation=None, name='y_hat')\n",
    "\n",
    "loss = tf.losses.softmax_cross_entropy(y, y_hat)\n",
    "learning_rate = 0.01\n",
    "optimizer = tf.train.AdamOptimizer(learning_rate)\n",
    "training_op = optimizer.minimize(loss)"
   ]
  },
  {
   "cell_type": "code",
   "execution_count": 39,
   "metadata": {
    "collapsed": true
   },
   "outputs": [],
   "source": [
    "# tensorflow init\n",
    "init = tf.global_variables_initializer()\n",
    "\n",
    "train_err = []\n",
    "test_err = []\n",
    "\n",
    "with tf.Session() as sess:\n",
    "    init.run()\n",
    "    \n",
    "    for epoch in range(50):\n",
    "        sess.run(training_op, feed_dict={X:X_train, y:y_train})\n",
    "        train_loss = sess.run(loss, feed_dict={X:X_train, y:y_train})\n",
    "        test_loss = sess.run(loss, feed_dict={X:X_test, y:y_test})\n",
    "        train_err.append(train_loss)\n",
    "        test_err.append(test_loss)\n",
    "        \n",
    "    pred = sess.run(y_hat, feed_dict={X:X_test})"
   ]
  },
  {
   "cell_type": "code",
   "execution_count": 56,
   "metadata": {},
   "outputs": [
    {
     "data": {
      "text/plain": [
       "0.9652380952380952"
      ]
     },
     "execution_count": 56,
     "metadata": {},
     "output_type": "execute_result"
    }
   ],
   "source": [
    "# accuracy\n",
    "preds = np.argmax(pred, axis=1)\n",
    "y_test = np.argmax(y_test, axis=1)\n",
    "metrics.accuracy_score(y_test, preds)"
   ]
  },
  {
   "cell_type": "code",
   "execution_count": 41,
   "metadata": {},
   "outputs": [
    {
     "data": {
      "image/png": "[encoded data removed]",
      "text/plain": [
       "<matplotlib.figure.Figure at 0x1a30bdcda0>"
      ]
     },
     "metadata": {},
     "output_type": "display_data"
    }
   ],
   "source": [
    "# plotting learning curves\n",
    "plt.plot(train_err, label='Training err')\n",
    "plt.plot(test_err, label='Testing err')\n",
    "plt.legend();"
   ]
  },
  {
   "cell_type": "code",
   "execution_count": 13,
   "metadata": {
    "collapsed": true
   },
   "outputs": [
    {
     "name": "stdout",
     "output_type": "stream",
     "text": [
      "Train on 31500 samples, validate on 10500 samples\n",
      "Epoch 1/8\n",
      "31500/31500 [==============================] - 12s 374us/step - loss: 0.3012 - acc: 0.9138 - val_loss: 0.1665 - val_acc: 0.9534\n",
      "Epoch 2/8\n",
      "31500/31500 [==============================] - 11s 363us/step - loss: 0.1274 - acc: 0.9630 - val_loss: 0.1277 - val_acc: 0.9631\n",
      "Epoch 3/8\n",
      "31500/31500 [==============================] - 13s 417us/step - loss: 0.0823 - acc: 0.9760 - val_loss: 0.0948 - val_acc: 0.9724\n",
      "Epoch 4/8\n",
      "31500/31500 [==============================] - 12s 393us/step - loss: 0.0560 - acc: 0.9843 - val_loss: 0.0856 - val_acc: 0.9750\n",
      "Epoch 5/8\n",
      "31500/31500 [==============================] - 14s 451us/step - loss: 0.0408 - acc: 0.9881 - val_loss: 0.0824 - val_acc: 0.9748\n",
      "Epoch 6/8\n",
      "31500/31500 [==============================] - 16s 513us/step - loss: 0.0264 - acc: 0.9931 - val_loss: 0.0816 - val_acc: 0.9749\n",
      "Epoch 7/8\n",
      "31500/31500 [==============================] - 12s 371us/step - loss: 0.0203 - acc: 0.9943 - val_loss: 0.0868 - val_acc: 0.9744\n",
      "Epoch 8/8\n",
      "31500/31500 [==============================] - 13s 423us/step - loss: 0.0150 - acc: 0.9964 - val_loss: 0.0834 - val_acc: 0.9764\n"
     ]
    }
   ],
   "source": [
    "# keras FFNN model\n",
    "model = Sequential()\n",
    "\n",
    "n_input = X_train.shape[1]\n",
    "n_hidden = n_input\n",
    "n_output = y_train.shape[1] # = 3 for the multiclass\n",
    "\n",
    "# first hidden layer\n",
    "model.add(Dense(n_hidden, input_dim=n_input, activation='relu'))\n",
    "\n",
    "# dropout layer for regularization\n",
    "#model.add(Dropout(0.15)) \n",
    "\n",
    "# output layer\n",
    "model.add(Dense(n_output, activation='softmax'))\n",
    "\n",
    "# specified learning rate\n",
    "adam = Adam(lr=0.0005)\n",
    "# compile model\n",
    "model.compile(optimizer=adam, loss='categorical_crossentropy', metrics=['accuracy'])\n",
    "\n",
    "# record training and testing results\n",
    "hist = model.fit(X_train, y_train, validation_data=(X_test, y_test), epochs=8, verbose=1)"
   ]
  },
  {
   "cell_type": "code",
   "execution_count": 14,
   "metadata": {},
   "outputs": [
    {
     "data": {
      "image/png": "[encoded data removed]",
      "text/plain": [
       "<matplotlib.figure.Figure at 0x1a22785c18>"
      ]
     },
     "metadata": {},
     "output_type": "display_data"
    }
   ],
   "source": [
    "# plotting learning curves for loss\n",
    "plt.plot(hist.history['loss'], label='Training Loss')\n",
    "plt.plot(hist.history['val_loss'], label='Testing Loss')\n",
    "plt.legend();"
   ]
  },
  {
   "cell_type": "code",
   "execution_count": 15,
   "metadata": {},
   "outputs": [
    {
     "data": {
      "image/png": "[encoded data removed]",
      "text/plain": [
       "<matplotlib.figure.Figure at 0x1a3430efd0>"
      ]
     },
     "metadata": {},
     "output_type": "display_data"
    }
   ],
   "source": [
    "# plotting learning curves for accuracy\n",
    "plt.plot(hist.history['acc'], label='Training Accuracy')\n",
    "plt.plot(hist.history['val_acc'], label='Testing Accuracy')\n",
    "plt.legend();"
   ]
  }
 ],
 "metadata": {
  "kernelspec": {
   "display_name": "Python [conda env:tensorflow]",
   "language": "python",
   "name": "conda-env-tensorflow-py"
  },
  "language_info": {
   "codemirror_mode": {
    "name": "ipython",
    "version": 3
   },
   "file_extension": ".py",
   "mimetype": "text/x-python",
   "name": "python",
   "nbconvert_exporter": "python",
   "pygments_lexer": "ipython3",
   "version": "3.6.4"
  }
 },
 "nbformat": 4,
 "nbformat_minor": 2
}
